{
 "cells": [
  {
   "cell_type": "markdown",
   "metadata": {},
   "source": [
    "# ANN à Convolution"
   ]
  },
  {
   "cell_type": "code",
   "execution_count": 1,
   "metadata": {},
   "outputs": [],
   "source": [
    "import tensorflow"
   ]
  },
  {
   "cell_type": "code",
   "execution_count": 3,
   "metadata": {},
   "outputs": [],
   "source": [
    "from keras.models import Sequential\n",
    "from keras.layers import Convolution2D\n",
    "from keras.layers import MaxPooling2D\n",
    "from keras.layers import Flatten\n",
    "from keras.layers import Dense\n",
    "from keras.layers import Dropout"
   ]
  },
  {
   "cell_type": "code",
   "execution_count": 4,
   "metadata": {},
   "outputs": [],
   "source": [
    "image_size = 150"
   ]
  },
  {
   "cell_type": "code",
   "execution_count": 5,
   "metadata": {},
   "outputs": [],
   "source": [
    "def Convoltion_and_Maxpoolin(image_size=150,filters=32,kernel_size=3,activation = 'relu'):\n",
    "    try:\n",
    "        # Initialising the CNN\n",
    "        classifier_am = Sequential()\n",
    "        # Convolution 1\n",
    "        classifier_am.add(Convolution2D(filters=filters,\n",
    "                                        kernel_size= kernel_size,\n",
    "                                        strides=1,\n",
    "                                        input_shape = (image_size, image_size, 3), \n",
    "                                        activation = activation))\n",
    "        classifier_am.add(MaxPooling2D(pool_size = (2, 2)))\n",
    "        #convolution 2\n",
    "        classifier_am.add(Convolution2D(filters=filters,\n",
    "                                        kernel_size= kernel_size,\n",
    "                                        strides=1,\n",
    "                                        activation = activation))\n",
    "        classifier_am.add(MaxPooling2D(pool_size = (2, 2)))\n",
    "        # Convolution 3\n",
    "        classifier_am.add(Convolution2D(filters=filters*2,\n",
    "                                        kernel_size= kernel_size,\n",
    "                                        strides=1,\n",
    "                                        activation = activation))\n",
    "        classifier_am.add(MaxPooling2D(pool_size = (2, 2)))\n",
    "        #convolution 4                  \n",
    "        classifier_am.add(Convolution2D(filters=filters,\n",
    "                                        kernel_size= kernel_size,\n",
    "                                        strides=1,\n",
    "                                        activation = activation))\n",
    "        classifier_am.add(MaxPooling2D(pool_size = (2, 2)))\n",
    "        print (\"Convoltion and Maxpoolin succes\")\n",
    "        return classifier_am\n",
    "    except:\n",
    "        print(\"Convoltion and Maxpoolin ERROR\")\n",
    "        return 0\n",
    "    \n",
    "def Flattening_and_Full_connection(classifier_am,units = 128,activation_hide = 'relu',activation_out='sigmoid'):\n",
    "    try:\n",
    "        #Flattening\n",
    "        classifier_am.add(Flatten())\n",
    "        # Full connection\n",
    "        classifier_am.add(Dense(units = units, activation = activation_hide))\n",
    "        classifier_am.add(Dense(units = units, activation = activation_hide))\n",
    "        classifier_am.add(Dropout(0.3))  \n",
    "        classifier_am.add(Dense(units = units, activation = activation_hide))\n",
    "        classifier_am.add(Dropout(0.4))            \n",
    "        classifier_am.add(Dense(units = 1, activation = activation_out))                  \n",
    "        classifier_am.compile(optimizer = 'adam', \n",
    "                              loss = 'binary_crossentropy', \n",
    "                              metrics = ['accuracy'])\n",
    "        print(\"Flattening and Full_connection  succes\")\n",
    "        return  classifier_am\n",
    "    except:\n",
    "        print(\"Flattening and Full_connection  ERROR\")\n",
    "        return 0"
   ]
  },
  {
   "cell_type": "code",
   "execution_count": 10,
   "metadata": {},
   "outputs": [
    {
     "name": "stdout",
     "output_type": "stream",
     "text": [
      "Convoltion and Maxpoolin succes\n",
      "Flattening and Full_connection  succes\n"
     ]
    }
   ],
   "source": [
    "classifier = Convoltion_and_Maxpoolin()\n",
    "if classifier != 0:\n",
    "    CNN_classifier = Flattening_and_Full_connection(classifier)"
   ]
  },
  {
   "cell_type": "code",
   "execution_count": 12,
   "metadata": {},
   "outputs": [
    {
     "name": "stdout",
     "output_type": "stream",
     "text": [
      "Found 8000 images belonging to 2 classes.\n",
      "Found 2000 images belonging to 2 classes.\n",
      "{'cats': 0, 'dogs': 1}\n"
     ]
    }
   ],
   "source": [
    "from keras.preprocessing.image import ImageDataGenerator\n",
    "\n",
    "train_datagen = ImageDataGenerator(rescale = 1./255,\n",
    "                                   shear_range = 0.2,\n",
    "                                   zoom_range = 0.2,\n",
    "                                   horizontal_flip = True)\n",
    "test_datagen = ImageDataGenerator(rescale = 1./255)\n",
    "\n",
    "training_set = train_datagen.flow_from_directory('dataset/training_set',\n",
    "                                                 target_size = (image_size,image_size),\n",
    "                                                 batch_size = 32,\n",
    "                                                 class_mode = 'binary')\n",
    "test_set = test_datagen.flow_from_directory('dataset/test_set',\n",
    "                                            target_size = (image_size,image_size),\n",
    "                                            batch_size = 32,\n",
    "                                            class_mode = 'binary')\n",
    "print test_set.class_indices"
   ]
  },
  {
   "cell_type": "code",
   "execution_count": 4,
   "metadata": {},
   "outputs": [
    {
     "name": "stdout",
     "output_type": "stream",
     "text": [
      "Epoch 1/25\n",
      "250/250 [==============================] - 876s 4s/step - loss: 0.6932 - acc: 0.5121 - val_loss: 0.6840 - val_acc: 0.5470\n",
      "Epoch 2/25\n",
      "250/250 [==============================] - 851s 3s/step - loss: 0.6723 - acc: 0.5788 - val_loss: 0.6898 - val_acc: 0.5750\n",
      "Epoch 3/25\n",
      "250/250 [==============================] - 850s 3s/step - loss: 0.6280 - acc: 0.6569 - val_loss: 0.5789 - val_acc: 0.7035\n",
      "Epoch 4/25\n",
      "250/250 [==============================] - 852s 3s/step - loss: 0.5918 - acc: 0.6905 - val_loss: 0.5586 - val_acc: 0.7055\n",
      "Epoch 5/25\n",
      "250/250 [==============================] - 852s 3s/step - loss: 0.5364 - acc: 0.7391 - val_loss: 0.5182 - val_acc: 0.7500\n",
      "Epoch 6/25\n",
      "250/250 [==============================] - 858s 3s/step - loss: 0.5045 - acc: 0.7618 - val_loss: 0.5180 - val_acc: 0.7425\n",
      "Epoch 7/25\n",
      "250/250 [==============================] - 850s 3s/step - loss: 0.4746 - acc: 0.7784 - val_loss: 0.4581 - val_acc: 0.7850\n",
      "Epoch 8/25\n",
      "250/250 [==============================] - 850s 3s/step - loss: 0.4552 - acc: 0.7881 - val_loss: 0.4478 - val_acc: 0.7935\n",
      "Epoch 9/25\n",
      "250/250 [==============================] - 851s 3s/step - loss: 0.4259 - acc: 0.8057 - val_loss: 0.4419 - val_acc: 0.8045\n",
      "Epoch 10/25\n",
      "250/250 [==============================] - 853s 3s/step - loss: 0.4041 - acc: 0.8206 - val_loss: 0.4339 - val_acc: 0.8040\n",
      "Epoch 11/25\n",
      "250/250 [==============================] - 1290s 5s/step - loss: 0.3907 - acc: 0.8231 - val_loss: 0.4155 - val_acc: 0.8210\n",
      "Epoch 12/25\n",
      "250/250 [==============================] - 857s 3s/step - loss: 0.3692 - acc: 0.8395 - val_loss: 0.4269 - val_acc: 0.8095\n",
      "Epoch 13/25\n",
      "250/250 [==============================] - 862s 3s/step - loss: 0.3525 - acc: 0.8430 - val_loss: 0.4608 - val_acc: 0.8130\n",
      "Epoch 14/25\n",
      "250/250 [==============================] - 860s 3s/step - loss: 0.3493 - acc: 0.8485 - val_loss: 0.3860 - val_acc: 0.8360\n",
      "Epoch 15/25\n",
      "250/250 [==============================] - 860s 3s/step - loss: 0.3258 - acc: 0.8595 - val_loss: 0.3931 - val_acc: 0.8290\n",
      "Epoch 16/25\n",
      "250/250 [==============================] - 854s 3s/step - loss: 0.3133 - acc: 0.8656 - val_loss: 0.3963 - val_acc: 0.8415\n",
      "Epoch 17/25\n",
      "250/250 [==============================] - 827s 3s/step - loss: 0.2885 - acc: 0.8790 - val_loss: 0.3823 - val_acc: 0.8440\n",
      "Epoch 18/25\n",
      "250/250 [==============================] - 772s 3s/step - loss: 0.2791 - acc: 0.8836 - val_loss: 0.3960 - val_acc: 0.8470\n",
      "Epoch 19/25\n",
      "250/250 [==============================] - 791s 3s/step - loss: 0.2660 - acc: 0.8842 - val_loss: 0.3955 - val_acc: 0.8330\n",
      "Epoch 20/25\n",
      "250/250 [==============================] - 862s 3s/step - loss: 0.2576 - acc: 0.8901 - val_loss: 0.4077 - val_acc: 0.8390\n",
      "Epoch 21/25\n",
      "250/250 [==============================] - 860s 3s/step - loss: 0.2502 - acc: 0.8966 - val_loss: 0.3836 - val_acc: 0.8415\n",
      "Epoch 22/25\n",
      "250/250 [==============================] - 857s 3s/step - loss: 0.2305 - acc: 0.9052 - val_loss: 0.3845 - val_acc: 0.8525\n",
      "Epoch 23/25\n",
      "250/250 [==============================] - 1020s 4s/step - loss: 0.2269 - acc: 0.9033 - val_loss: 0.3885 - val_acc: 0.8530\n",
      "Epoch 24/25\n",
      "250/250 [==============================] - 835s 3s/step - loss: 0.2213 - acc: 0.9123 - val_loss: 0.3678 - val_acc: 0.8560\n",
      "Epoch 25/25\n",
      "250/250 [==============================] - 839s 3s/step - loss: 0.2023 - acc: 0.9194 - val_loss: 0.4144 - val_acc: 0.8480\n"
     ]
    },
    {
     "data": {
      "text/plain": [
       "<keras.callbacks.History at 0x7f588e1ddd10>"
      ]
     },
     "execution_count": 4,
     "metadata": {},
     "output_type": "execute_result"
    }
   ],
   "source": [
    "CNN_classifier.fit_generator(training_set,\n",
    "                         steps_per_epoch = 250,\n",
    "                         epochs = 25,\n",
    "                         validation_data = test_set,\n",
    "                         validation_steps = 63)"
   ]
  },
  {
   "cell_type": "code",
   "execution_count": 7,
   "metadata": {},
   "outputs": [
    {
     "name": "stdout",
     "output_type": "stream",
     "text": [
      "Saved model to disk\n"
     ]
    }
   ],
   "source": [
    "from keras.models import model_from_json\n",
    "# serialize model to JSON\n",
    "model_json = classifier_am.to_json()\n",
    "with open(\"modelCNN.json\", \"w\") as json_file:\n",
    "    json_file.write(model_json)\n",
    "# serialize weights to HDF5\n",
    "classifier_am.save_weights(\"modelCNN.h5\")\n",
    "print(\"Saved model to disk\")"
   ]
  }
 ],
 "metadata": {
  "kernelspec": {
   "display_name": "Python 2",
   "language": "python",
   "name": "python2"
  },
  "language_info": {
   "codemirror_mode": {
    "name": "ipython",
    "version": 2
   },
   "file_extension": ".py",
   "mimetype": "text/x-python",
   "name": "python",
   "nbconvert_exporter": "python",
   "pygments_lexer": "ipython2",
   "version": "2.7.15"
  }
 },
 "nbformat": 4,
 "nbformat_minor": 2
}
